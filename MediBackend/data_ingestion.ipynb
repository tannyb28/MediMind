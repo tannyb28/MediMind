{
 "cells": [
  {
   "cell_type": "code",
   "execution_count": null,
   "id": "0024fdde",
   "metadata": {},
   "outputs": [
    {
     "name": "stdout",
     "output_type": "stream",
     "text": [
      "Ingest complete: 244 chunks stored in “.chromadb/”.\n"
     ]
    }
   ],
   "source": [
    "import os\n",
    "from pdfplumber import open as open_pdf\n",
    "from langchain.text_splitter import RecursiveCharacterTextSplitter\n",
    "from langchain_openai import OpenAIEmbeddings\n",
    "import chromadb\n",
    "from chromadb.config import Settings\n",
    "import getpass\n",
    "\n",
    "# 1. extract & chunk\n",
    "with open_pdf(\"/Users/tanishbhowmick/Downloads/inceptivemanual_clinician.pdf\") as pdf:\n",
    "    text = \"\\n\".join(p.extract_text() or \"\" for p in pdf.pages)\n",
    "chunks = RecursiveCharacterTextSplitter(chunk_size=1000, chunk_overlap=200).split_text(text)\n",
    "\n",
    "# 2. embed\n",
    "embeddings = OpenAIEmbeddings(model=\"text-embedding-3-small\")\n",
    "vectors = embeddings.embed_documents(chunks)\n",
    "\n",
    "# 3. init Chroma with a persist directory\n",
    "client = chromadb.PersistentClient(path=\".chromadb\")\n",
    "collection = client.get_or_create_collection(\n",
    "    name=\"inceptive_clinician_manual\",\n",
    "    metadata={\"source\": \"Inceptive Clinician Manual\"}\n",
    ")\n",
    "\n",
    "# 4. add data\n",
    "ids = [f\"chunk_{i}\" for i in range(len(chunks))]\n",
    "metadatas = [{\"chunk_index\": i} for i in range(len(chunks))]\n",
    "collection.add(\n",
    "    documents=chunks,\n",
    "    embeddings=vectors,\n",
    "    metadatas=metadatas,\n",
    "    ids=ids\n",
    ")\n",
    "\n",
    "print(f\"Ingest complete: {collection.count()} chunks stored in “.chromadb/”.\")\n"
   ]
  },
  {
   "cell_type": "code",
   "execution_count": 2,
   "id": "8569acd5",
   "metadata": {},
   "outputs": [
    {
     "name": "stdout",
     "output_type": "stream",
     "text": [
      "[Collection(name=inceptive_clinician_manual)]\n"
     ]
    }
   ],
   "source": [
    "print(client.list_collections())\n"
   ]
  },
  {
   "cell_type": "code",
   "execution_count": null,
   "id": "f8ef06f0",
   "metadata": {},
   "outputs": [],
   "source": []
  }
 ],
 "metadata": {
  "kernelspec": {
   "display_name": ".venv",
   "language": "python",
   "name": "python3"
  },
  "language_info": {
   "codemirror_mode": {
    "name": "ipython",
    "version": 3
   },
   "file_extension": ".py",
   "mimetype": "text/x-python",
   "name": "python",
   "nbconvert_exporter": "python",
   "pygments_lexer": "ipython3",
   "version": "3.13.3"
  }
 },
 "nbformat": 4,
 "nbformat_minor": 5
}
